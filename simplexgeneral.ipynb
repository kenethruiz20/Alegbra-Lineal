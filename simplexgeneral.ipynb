{
  "nbformat": 4,
  "nbformat_minor": 0,
  "metadata": {
    "colab": {
      "provenance": [],
      "include_colab_link": true
    },
    "kernelspec": {
      "name": "python3",
      "display_name": "Python 3"
    },
    "language_info": {
      "name": "python"
    }
  },
  "cells": [
    {
      "cell_type": "markdown",
      "metadata": {
        "id": "view-in-github",
        "colab_type": "text"
      },
      "source": [
        "<a href=\"https://colab.research.google.com/github/kenethruiz20/kenethruiz20/blob/main/simplexgeneral.ipynb\" target=\"_parent\"><img src=\"https://colab.research.google.com/assets/colab-badge.svg\" alt=\"Open In Colab\"/></a>"
      ]
    },
    {
      "cell_type": "markdown",
      "source": [
        "##Algoritmo Simplex general Min y Max con y sin Condi\n",
        "\n",
        "1. Preguntar si es Min o Max dependeiendo de eso se establece el criterio de búsqueda en R0\n",
        "2. Determina si hay Condi... procede con algoritmo modificado de condi. Para salir de condi en mini , en R0 debe haber 1 en Z y el resto no negativo (0 o +). Si no hemos 'salido completamente' pero ya noes condi, proceder con el algoritmo normal.\n"
      ],
      "metadata": {
        "id": "AS-T49apu68y"
      }
    },
    {
      "cell_type": "code",
      "source": [
        "from numpy import *\n",
        "from pylab import *\n",
        "from pandas import *\n",
        "from tabulate import *"
      ],
      "metadata": {
        "id": "NHCs1ameYshF"
      },
      "execution_count": null,
      "outputs": []
    },
    {
      "cell_type": "markdown",
      "source": [
        "## Aqui le preguntamos al usuario que tipo de problema es"
      ],
      "metadata": {
        "id": "lfRD80mP7zJW"
      }
    },
    {
      "cell_type": "code",
      "source": [
        "ttt=int(input('\\n Minimo o maximo? \\n 1. Maximo \\n 2. Minimo \\n'))"
      ],
      "metadata": {
        "id": "9hxrl3GMcxNY",
        "colab": {
          "base_uri": "https://localhost:8080/"
        },
        "outputId": "71f6fbad-b51f-410d-cf3e-1a88abafad18"
      },
      "execution_count": null,
      "outputs": [
        {
          "name": "stdout",
          "output_type": "stream",
          "text": [
            "\n",
            " Minimo o maximo? \n",
            " 1. Maximo \n",
            " 2. Minimo \n",
            "2\n"
          ]
        }
      ]
    },
    {
      "cell_type": "code",
      "source": [
        "# ------------ Maxi\n",
        "# qv = 3\n",
        "# qc = 4\n",
        "# s = [0, 0, 0 , 0]\n",
        "\n",
        "# ------------ Mini ---------------\n",
        "#qv = 2\n",
        "#qc = 3\n",
        "#s = [0, 1, 2]"
      ],
      "metadata": {
        "id": "40b9lHRQ5utx"
      },
      "execution_count": null,
      "outputs": []
    },
    {
      "cell_type": "markdown",
      "source": [
        "### Preguntamos al usuario las condiciones del problema"
      ],
      "metadata": {
        "id": "PufTmeWJ8CPB"
      }
    },
    {
      "cell_type": "code",
      "source": [
        "qv=int(input('Ingresar la cantidad (entera) de variables del problema: '))\n",
        "qc=int(input('Ingresar la cantidad (entera) de restricciones del problema: '))\n",
        "s=[]\n",
        "for i in range(qc):\n",
        "  print('índice',i)\n",
        "  tmp=int(input('Ingresar el signo (0 - menor o igual que, 1 - mayor o igual que, 2 - igual a ) de la restricción: '))\n",
        "  s.append(tmp)\n",
        "\n",
        "s=matrix(s)\n",
        "s=s.T\n",
        "print(s)\n"
      ],
      "metadata": {
        "id": "H8BJA0a-eIkH",
        "colab": {
          "base_uri": "https://localhost:8080/"
        },
        "outputId": "f908b73b-b089-48d9-8642-0529431a288a"
      },
      "execution_count": null,
      "outputs": [
        {
          "output_type": "stream",
          "name": "stdout",
          "text": [
            "Ingresar la cantidad (entera) de variables del problema: 2\n",
            "Ingresar la cantidad (entera) de restricciones del problema: 3\n",
            "índice 0\n",
            "Ingresar el signo (0 - menor o igual que, 1 - mayor o igual que, 2 - igual a ) de la restricción: 0\n",
            "índice 1\n",
            "Ingresar el signo (0 - menor o igual que, 1 - mayor o igual que, 2 - igual a ) de la restricción: 1\n",
            "índice 2\n",
            "Ingresar el signo (0 - menor o igual que, 1 - mayor o igual que, 2 - igual a ) de la restricción: 2\n",
            "[[0]\n",
            " [1]\n",
            " [2]]\n"
          ]
        }
      ]
    },
    {
      "cell_type": "code",
      "source": [
        "i0,i1,i2=[],[],[]\n",
        "q0,q1,n2,q2=0,0,0,0\n",
        "for i in range(qc):\n",
        "  if s[i,0]==0:\n",
        "    q0+=1\n",
        "    i0.append(i)\n",
        "  elif s[i,0]==1:\n",
        "    q1+=1\n",
        "    i1.append(i)\n",
        "  else:\n",
        "    q2+=1\n",
        "    i2.append(i)\n",
        "n2=q0+q1"
      ],
      "metadata": {
        "id": "0LKa3egHentV"
      },
      "execution_count": null,
      "outputs": []
    },
    {
      "cell_type": "code",
      "source": [
        "nomvars=[]\n",
        "for i in range (1+qv+n2):\n",
        "  #print('inicial',i)\n",
        "  if i==0:\n",
        "    nomvars.append('Z')\n",
        "  if 1<=i<=qv:\n",
        "    print(i)\n",
        "    vt='x'+str(i)\n",
        "    nomvars.append(vt)\n",
        "  if i>qv:\n",
        "    print('de s:',i-qv-1)\n",
        "    if s[i-qv-1,0]==0:\n",
        "      vt='s'+str(i-qv)\n",
        "      nomvars.append(vt)\n",
        "    elif (s[i-qv-1,0]==1):\n",
        "      vt='e'+str(i-qv)\n",
        "      nomvars.append(vt)\n",
        "nomvars.append('rhs')\n",
        "print(nomvars)"
      ],
      "metadata": {
        "id": "v8J9nJ1ye_bU",
        "colab": {
          "base_uri": "https://localhost:8080/"
        },
        "outputId": "712c4b6a-d5ed-4e92-ee35-c8f8fbef876c"
      },
      "execution_count": null,
      "outputs": [
        {
          "output_type": "stream",
          "name": "stdout",
          "text": [
            "1\n",
            "2\n",
            "de s: 0\n",
            "de s: 1\n",
            "['Z', 'x1', 'x2', 's1', 'e2', 'rhs']\n"
          ]
        }
      ]
    },
    {
      "cell_type": "code",
      "source": [
        "coef=matrix(zeros((1+qc,1+qv+n2+1)))"
      ],
      "metadata": {
        "id": "bcsheq73eqX7"
      },
      "execution_count": null,
      "outputs": []
    },
    {
      "cell_type": "markdown",
      "source": [
        "### Definimos funciones necesarias para los whiles principales"
      ],
      "metadata": {
        "id": "oiinv9vw8Ia4"
      }
    },
    {
      "cell_type": "code",
      "source": [
        "# ---------- Minimizacion --------------- #\n",
        "def buscarmenorR(Mat,Ren):\n",
        "  ind=45678913231\n",
        "  menori=1000000000\n",
        "  for i in range (shape(Mat)[1]):\n",
        "    if Mat[Ren,i]<menori:\n",
        "      menori=Mat[Ren,i]\n",
        "      ind=i\n",
        "  return(menori,ind)\n",
        "\n",
        "def buscarmayorR(Mat,Ren):\n",
        "  ind=45678913231\n",
        "  mayori=-1000000000\n",
        "  for i in range (shape(Mat)[1]):\n",
        "    if Mat[Ren,i]>mayori:\n",
        "      mayori=Mat[Ren,i]\n",
        "      ind=i\n",
        "  return(mayori,ind)\n",
        "\n",
        "def buscarmenorC(Mat,Col):\n",
        "  ind=45678913231\n",
        "  menori=1000000000\n",
        "  for i in range (shape(Mat)[0]):\n",
        "    if Mat[i,Col]>0:\n",
        "      if Mat[i,Col]<menori:\n",
        "        menori=Mat[i,Col]\n",
        "        ind=i\n",
        "  return(menori,ind)\n",
        "minimo0=100000000\n",
        "imenorC=1000000000000\n",
        "\n",
        "# ---------- Maximizacion --------------- #\n",
        "\n",
        "def buscarmenorCMaxi(Mat,Col):\n",
        "  ind=45678913231\n",
        "  menori=1000000000\n",
        "  for i in range (shape(Mat)[0]):\n",
        "    if Mat[i,Col]>0:\n",
        "      if Mat[i,Col]<menori:\n",
        "        menori=Mat[i,Col]\n",
        "        ind=i\n",
        "  return(menori,ind)\n",
        "minimo0=100000000\n",
        "imenorC=1000000000000\n",
        "print('Esto es con el for + if')\n",
        "for i in range (len(nomvars)):\n",
        "    #print(coef[0,i])\n",
        "    if coef[0,i]<minimo0:\n",
        "      minimo0=coef[0,i]\n",
        "      imenorC=i\n",
        "    #print()\n",
        "print(minimo0,imenorC)\n",
        "if minimo0<0:\n",
        "  sigue=True\n",
        "  print('No es óptimo, el algoritmo sige... este es el primero')\n",
        "\n",
        "print ('Esto es con la función...')\n",
        "miin0, iminin0=buscarmenorR(coef,0)\n",
        "print(miin0,iminin0)"
      ],
      "metadata": {
        "id": "Kb7ra8OYZnYQ",
        "colab": {
          "base_uri": "https://localhost:8080/"
        },
        "outputId": "cb8ad57a-4ed9-4131-f76b-701a7d89c257"
      },
      "execution_count": null,
      "outputs": [
        {
          "output_type": "stream",
          "name": "stdout",
          "text": [
            "Esto es con el for + if\n",
            "0.0 0\n",
            "Esto es con la función...\n",
            "0.0 0\n"
          ]
        }
      ]
    },
    {
      "cell_type": "markdown",
      "source": [
        "### While principal de Minimización"
      ],
      "metadata": {
        "id": "DwtPAj7O8N9p"
      }
    },
    {
      "cell_type": "code",
      "source": [
        "def Mini_Main():\n",
        "  # ---------- Minimizacion\n",
        "  sigue=True\n",
        "  tablaN=0\n",
        "  maxi0=-1000000000\n",
        "  colpiv=123412341\n",
        "  condi=False\n",
        "  condiant=False\n",
        "  while sigue:\n",
        "    condi=False\n",
        "    ineg=[]\n",
        "    for k in range (1,len(nomvars)-1):\n",
        "      if coef[0,k]<0:\n",
        "        ineg.append(k)\n",
        "    sumaR0=0\n",
        "    for k in range (1,len(nomvars)-1):\n",
        "      if k not in ineg:\n",
        "        sumaR0=sumaR0+coef[0,k]\n",
        "    if sumaR0==0:\n",
        "      condi=True\n",
        "\n",
        "    mayorcondi=-100000000\n",
        "    indimayorcondi=123654789\n",
        "    if (condi):\n",
        "      for k in range (1,len(nomvars)-1):\n",
        "        if k in ineg:\n",
        "          if coef[0,k]>mayorcondi:\n",
        "            mayorcondi=coef[0,k]\n",
        "            indimayorcondi=k\n",
        "      print ('el mayor no cero es:',mayorcondi, 'el ìndice es: ',indimayorcondi)\n",
        "      colpiv=indimayorcondi\n",
        "    else:\n",
        "      mayorcondi=100000000\n",
        "      ndimayorcondi=123654789\n",
        "      for k in range (1,len(nomvars)-1):\n",
        "        if k not in ineg:\n",
        "          if coef[0,k]>mayorcondi:\n",
        "            mayorcondi=coef[0,k]\n",
        "            indimayorcondi=k\n",
        "      print ('el mayor no cero es:',mayorcondi, 'el ìndice es: ',indimayorcondi)\n",
        "      colpiv=indimayorcondi\n",
        "    for j in range (1,len(nomvars)-1):\n",
        "      if coef[0,j]>maxi0 and coef[0,j]>=0 and (not condi):\n",
        "        maxi0=coef[0,j]\n",
        "        colpiv=j\n",
        "    print('columna pivote: ', colpiv)\n",
        "    razones=matrix(zeros((qc+1,1)))\n",
        "    razones=divide(coef[:,-1],coef[:,colpiv], where=coef[:,colpiv]!=0)\n",
        "    print ('Razones: ')\n",
        "    print(razones)\n",
        "    menorR,rpivote=buscarmenorC(razones,0)\n",
        "    coef[rpivote]=coef[rpivote]/coef[rpivote,colpiv]\n",
        "    if condi:\n",
        "      condiant=True\n",
        "\n",
        "    else:\n",
        "      condiant=False\n",
        "    for i in range (qc+1):\n",
        "      if i!=rpivote:\n",
        "        coef[i]=coef[i]-coef[i,colpiv]*coef[rpivote]\n",
        "    print('Tabla al final del while...')\n",
        "    coefdf=DataFrame(coef)\n",
        "    coefdf.columns=nomvars\n",
        "    print(coefdf)\n",
        "    print('************************')\n",
        "    print('condi= ', condi)\n",
        "\n",
        "    negativosR0=False\n",
        "    probo=False\n",
        "    for i in range (1,len(nomvars)-1):\n",
        "\n",
        "      if coef[0,i]<0:\n",
        "        negativosR0=True\n",
        "        probo=True\n",
        "        print('Entró a probar negativos')\n",
        "    if (condi and not(negativosR0)):\n",
        "      sigue=False\n",
        "      print('Tan tan!')\n",
        "\n",
        "    print (negativosR0)\n",
        "    tablaN=tablaN+1\n",
        "\n",
        "\n"
      ],
      "metadata": {
        "id": "3R15F6Zg1Smt"
      },
      "execution_count": null,
      "outputs": []
    },
    {
      "cell_type": "markdown",
      "source": [
        "### While principal de Maximización"
      ],
      "metadata": {
        "id": "mTV4zwcr8UyD"
      }
    },
    {
      "cell_type": "code",
      "source": [
        "def Maxi_Main():\n",
        "  inditera=0\n",
        "  imenorC=70000\n",
        "  minimo0=10000000\n",
        "  print('La tabla',inditera, 'es: ')\n",
        "\n",
        "  coefdf=DataFrame(coef)\n",
        "  coefdf.columns=nomvars\n",
        "  print(tabulate(coefdf, headers='keys', tablefmt='psql'))\n",
        "\n",
        "  for i in range (len(nomvars)):\n",
        "      if coef[0,i]<minimo0:\n",
        "        minimo0=coef[0,i]\n",
        "        imenorC=i\n",
        "  if minimo0<0:\n",
        "    sigue=True\n",
        "    print('No es óptimo, el algoritmo sige... este es el primero')\n",
        "\n",
        "  while sigue:\n",
        "    razones=matrix(zeros((qc+1,1)))\n",
        "    razones=divide(coef[:,-1],coef[:,imenorC], where=coef[:,imenorC]!=0)\n",
        "    print ('Razones')\n",
        "    print(razones)\n",
        "    razones=matrix(razones)\n",
        "    imenorR=buscarmenorCMaxi(razones,0)[1]\n",
        "    coef[imenorR]=coef[imenorR]/coef[imenorR,imenorC]\n",
        "\n",
        "    for i in range (shape(coef)[0]):\n",
        "      if i!=imenorR:\n",
        "        coef[i]=coef[i]-coef[i,imenorC]*coef[imenorR]\n",
        "\n",
        "    print('Columna lista!')\n",
        "    inditera+=1\n",
        "    print()\n",
        "    print('La nueva tabla, la #', inditera, 'es: ')\n",
        "    #solamente para presentar... DataFrame...\n",
        "    coefdf=DataFrame(coef)\n",
        "    coefdf.columns=nomvars\n",
        "    print(tabulate(coefdf, headers='keys', tablefmt='psql'))\n",
        "  #revisando optimalidad de la nueva tabla\n",
        "    minimo0=100000000\n",
        "    for i in range (len(nomvars)):\n",
        "      if coef[0,i]<minimo0:\n",
        "        minimo0=coef[0,i]\n",
        "        imenorC=i\n",
        "    if minimo0<0:\n",
        "      sigue=True\n",
        "      print('No es óptimo, siga')\n",
        "    else:\n",
        "      sigue=False\n",
        "      print ('La tabla es la óptima')"
      ],
      "metadata": {
        "id": "XChClY8K1beC"
      },
      "execution_count": null,
      "outputs": []
    },
    {
      "cell_type": "markdown",
      "source": [
        "### Llamamos a las funciones dependiendo del tipo de problema que el usuario indicó y también definimos las matrices de coeficientes"
      ],
      "metadata": {
        "id": "pblItBrY8X_j"
      }
    },
    {
      "cell_type": "code",
      "source": [
        "if ttt == 1:### Maxi\n",
        "  coef[0]=[1,-60,-30,-20,0,0,0,0,0]\n",
        "  coef[1]=[0,8,6,1,1,0,0,0,48]\n",
        "  coef[2]=[0,4,2,1.5,0,1,0,0,20]\n",
        "  coef[3]=[0,2,1.5,.5,0,0,1,0,8]\n",
        "  coef[4]=[0,0,1,0,0,0,0,1,5]\n",
        "  coefdf=DataFrame(coef)\n",
        "  coefdf.columns=nomvars\n",
        "  coefdf\n",
        "\n",
        "\n",
        "  Maxi_Main()\n",
        "else: ### Mini\n",
        "  coef[0]=[1,-2,-2,0,0,0]\n",
        "  coef[1]=[0,1,3,1,0,12]\n",
        "  coef[2]=[0,3,1,0,1,13]\n",
        "  coef[3]=[0,1,-1,0,0,3]\n",
        "  coefdf=DataFrame(coef)\n",
        "  coefdf.columns=nomvars\n",
        "  coefdf\n",
        "\n",
        "  Mini_Main()"
      ],
      "metadata": {
        "id": "lnrFIt4F0btq",
        "colab": {
          "base_uri": "https://localhost:8080/"
        },
        "outputId": "448198c5-a3ad-4f8a-a763-19c24b4520c7"
      },
      "execution_count": null,
      "outputs": [
        {
          "output_type": "stream",
          "name": "stdout",
          "text": [
            "el mayor no cero es: -2.0 el ìndice es:  1\n",
            "columna pivote:  1\n",
            "Razones: \n",
            "[[-0.        ]\n",
            " [12.        ]\n",
            " [ 4.33333333]\n",
            " [ 3.        ]]\n",
            "Tabla al final del while...\n",
            "     Z   x1   x2   s1   e2  rhs\n",
            "0  1.0  0.0 -4.0  0.0  0.0  6.0\n",
            "1  0.0  0.0  4.0  1.0  0.0  9.0\n",
            "2  0.0  0.0  4.0  0.0  1.0  4.0\n",
            "3  0.0  1.0 -1.0  0.0  0.0  3.0\n",
            "************************\n",
            "condi=  True\n",
            "Entró a probar negativos\n",
            "True\n",
            "el mayor no cero es: -4.0 el ìndice es:  2\n",
            "columna pivote:  2\n",
            "Razones: \n",
            "[[-1.5 ]\n",
            " [ 2.25]\n",
            " [ 1.  ]\n",
            " [-3.  ]]\n",
            "Tabla al final del while...\n",
            "     Z   x1   x2   s1    e2   rhs\n",
            "0  1.0  0.0  0.0  0.0  1.00  10.0\n",
            "1  0.0  0.0  0.0  1.0 -1.00   5.0\n",
            "2  0.0  0.0  1.0  0.0  0.25   1.0\n",
            "3  0.0  1.0  0.0  0.0  0.25   4.0\n",
            "************************\n",
            "condi=  True\n",
            "Tan tan!\n",
            "False\n"
          ]
        }
      ]
    },
    {
      "cell_type": "code",
      "source": [],
      "metadata": {
        "id": "-l2Zdm5eJi4Z"
      },
      "execution_count": null,
      "outputs": []
    }
  ]
}